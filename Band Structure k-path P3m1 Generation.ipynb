{
 "cells": [
  {
   "cell_type": "code",
   "execution_count": 1,
   "id": "89e224ff",
   "metadata": {
    "scrolled": true
   },
   "outputs": [
    {
     "name": "stdout",
     "output_type": "stream",
     "text": [
      "Intel MKL WARNING: Support of Intel(R) Streaming SIMD Extensions 4.2 (Intel(R) SSE4.2) enabled only processors has been deprecated. Intel oneAPI Math Kernel Library 2025.0 will require Intel(R) Advanced Vector Extensions (Intel(R) AVX) instructions.\n",
      "Intel MKL WARNING: Support of Intel(R) Streaming SIMD Extensions 4.2 (Intel(R) SSE4.2) enabled only processors has been deprecated. Intel oneAPI Math Kernel Library 2025.0 will require Intel(R) Advanced Vector Extensions (Intel(R) AVX) instructions.\n"
     ]
    }
   ],
   "source": [
    "import numpy as np"
   ]
  },
  {
   "cell_type": "code",
   "execution_count": 58,
   "id": "9a23256b",
   "metadata": {},
   "outputs": [],
   "source": [
    "gamma = np.array([0.0, 0.0, 0.0])\n",
    "A = np.array([0.0, 0.0, 0.5])\n",
    "H = np.array([1/3, 1/3, 1/2]) \n",
    "K = np.array([1/3, 1/3, 0.0])\n",
    "H2 = np.array([1/3, 1/3, -1/2])\n",
    "L = np.array([1/2, 0, 1/2]) \n",
    "M = np.array([1/2, 0, 0])"
   ]
  },
  {
   "cell_type": "code",
   "execution_count": 93,
   "id": "24556fb5",
   "metadata": {},
   "outputs": [],
   "source": [
    "def gen_two_points2(x1, x2, num_points = 30):\n",
    "    \"\"\" generates points on a line between two points \"\"\"\n",
    "    slope_vector = x2 - x1 \n",
    "    \n",
    "    t = np.linspace(0, 1, num_points)\n",
    "    \n",
    "    x_data = x1[0] + slope_vector[0] * t \n",
    "    y_data = x1[1] + slope_vector[1] * t \n",
    "    z_data = x1[2] + slope_vector[2] * t \n",
    "    \n",
    "    return [x_data, y_data, z_data]\n",
    "\n",
    "def distance(x,y):\n",
    "    if np.sqrt(np.dot((x-y), (x-y))) < 0.4:\n",
    "        return 17\n",
    "    else:\n",
    "        return 30 \n",
    "\n",
    "def path_gen(*args):\n",
    "    num_points = 0\n",
    "    counter = 0\n",
    "    for index, arg in enumerate(args):\n",
    "        counter += 1\n",
    "        if index == 0:\n",
    "            continue \n",
    "        elif index == 1:\n",
    "            dis = distance(args[index-1], args[index])\n",
    "            num_points += dis \n",
    "            data = gen_two_points2(args[index-1], args[index], dis)\n",
    "            for i in range(len(data[0])):\n",
    "                print(\"\\t\" + str(f\"{data[0][i]:.10f}\") + \"\\t\" + str(f\"{data[1][i]:.10f}\") + \"\\t\" + str(f\"{data[2][i]:.10f}\") + \"\\t 1\" ) \n",
    "        else:\n",
    "            dis = distance(args[index-1], args[index])\n",
    "            num_points += dis \n",
    "            data = gen_two_points2(args[index-1], args[index], dis)\n",
    "            for i in range(1, len(data[0])):\n",
    "                print(\"\\t\" + str(f\"{data[0][i]:.10f}\") + \"\\t\" + str(f\"{data[1][i]:.10f}\") + \"\\t\" + str(f\"{data[2][i]:.10f}\") + \"\\t 1\" ) \n",
    "    print(num_points - counter + 2)"
   ]
  },
  {
   "cell_type": "code",
   "execution_count": 99,
   "id": "5c2be0a6",
   "metadata": {
    "scrolled": false
   },
   "outputs": [
    {
     "name": "stdout",
     "output_type": "stream",
     "text": [
      "\t0.5000000000\t0.0000000000\t0.0000000000\t 1\n",
      "\t0.4827586207\t0.0000000000\t0.0000000000\t 1\n",
      "\t0.4655172414\t0.0000000000\t0.0000000000\t 1\n",
      "\t0.4482758621\t0.0000000000\t0.0000000000\t 1\n",
      "\t0.4310344828\t0.0000000000\t0.0000000000\t 1\n",
      "\t0.4137931034\t0.0000000000\t0.0000000000\t 1\n",
      "\t0.3965517241\t0.0000000000\t0.0000000000\t 1\n",
      "\t0.3793103448\t0.0000000000\t0.0000000000\t 1\n",
      "\t0.3620689655\t0.0000000000\t0.0000000000\t 1\n",
      "\t0.3448275862\t0.0000000000\t0.0000000000\t 1\n",
      "\t0.3275862069\t0.0000000000\t0.0000000000\t 1\n",
      "\t0.3103448276\t0.0000000000\t0.0000000000\t 1\n",
      "\t0.2931034483\t0.0000000000\t0.0000000000\t 1\n",
      "\t0.2758620690\t0.0000000000\t0.0000000000\t 1\n",
      "\t0.2586206897\t0.0000000000\t0.0000000000\t 1\n",
      "\t0.2413793103\t0.0000000000\t0.0000000000\t 1\n",
      "\t0.2241379310\t0.0000000000\t0.0000000000\t 1\n",
      "\t0.2068965517\t0.0000000000\t0.0000000000\t 1\n",
      "\t0.1896551724\t0.0000000000\t0.0000000000\t 1\n",
      "\t0.1724137931\t0.0000000000\t0.0000000000\t 1\n",
      "\t0.1551724138\t0.0000000000\t0.0000000000\t 1\n",
      "\t0.1379310345\t0.0000000000\t0.0000000000\t 1\n",
      "\t0.1206896552\t0.0000000000\t0.0000000000\t 1\n",
      "\t0.1034482759\t0.0000000000\t0.0000000000\t 1\n",
      "\t0.0862068966\t0.0000000000\t0.0000000000\t 1\n",
      "\t0.0689655172\t0.0000000000\t0.0000000000\t 1\n",
      "\t0.0517241379\t0.0000000000\t0.0000000000\t 1\n",
      "\t0.0344827586\t0.0000000000\t0.0000000000\t 1\n",
      "\t0.0172413793\t0.0000000000\t0.0000000000\t 1\n",
      "\t0.0000000000\t0.0000000000\t0.0000000000\t 1\n",
      "\t-0.0172413793\t0.0000000000\t0.0000000000\t 1\n",
      "\t-0.0344827586\t0.0000000000\t0.0000000000\t 1\n",
      "\t-0.0517241379\t0.0000000000\t0.0000000000\t 1\n",
      "\t-0.0689655172\t0.0000000000\t0.0000000000\t 1\n",
      "\t-0.0862068966\t0.0000000000\t0.0000000000\t 1\n",
      "\t-0.1034482759\t0.0000000000\t0.0000000000\t 1\n",
      "\t-0.1206896552\t0.0000000000\t0.0000000000\t 1\n",
      "\t-0.1379310345\t0.0000000000\t0.0000000000\t 1\n",
      "\t-0.1551724138\t0.0000000000\t0.0000000000\t 1\n",
      "\t-0.1724137931\t0.0000000000\t0.0000000000\t 1\n",
      "\t-0.1896551724\t0.0000000000\t0.0000000000\t 1\n",
      "\t-0.2068965517\t0.0000000000\t0.0000000000\t 1\n",
      "\t-0.2241379310\t0.0000000000\t0.0000000000\t 1\n",
      "\t-0.2413793103\t0.0000000000\t0.0000000000\t 1\n",
      "\t-0.2586206897\t0.0000000000\t0.0000000000\t 1\n",
      "\t-0.2758620690\t0.0000000000\t0.0000000000\t 1\n",
      "\t-0.2931034483\t0.0000000000\t0.0000000000\t 1\n",
      "\t-0.3103448276\t0.0000000000\t0.0000000000\t 1\n",
      "\t-0.3275862069\t0.0000000000\t0.0000000000\t 1\n",
      "\t-0.3448275862\t0.0000000000\t0.0000000000\t 1\n",
      "\t-0.3620689655\t0.0000000000\t0.0000000000\t 1\n",
      "\t-0.3793103448\t0.0000000000\t0.0000000000\t 1\n",
      "\t-0.3965517241\t0.0000000000\t0.0000000000\t 1\n",
      "\t-0.4137931034\t0.0000000000\t0.0000000000\t 1\n",
      "\t-0.4310344828\t0.0000000000\t0.0000000000\t 1\n",
      "\t-0.4482758621\t0.0000000000\t0.0000000000\t 1\n",
      "\t-0.4655172414\t0.0000000000\t0.0000000000\t 1\n",
      "\t-0.4827586207\t0.0000000000\t0.0000000000\t 1\n",
      "\t-0.5000000000\t0.0000000000\t0.0000000000\t 1\n",
      "59\n"
     ]
    }
   ],
   "source": [
    "path_gen(M, gamma, -1*M)"
   ]
  },
  {
   "cell_type": "code",
   "execution_count": null,
   "id": "4abf39c8",
   "metadata": {},
   "outputs": [],
   "source": []
  }
 ],
 "metadata": {
  "kernelspec": {
   "display_name": "Python 3 (ipykernel)",
   "language": "python",
   "name": "python3"
  },
  "language_info": {
   "codemirror_mode": {
    "name": "ipython",
    "version": 3
   },
   "file_extension": ".py",
   "mimetype": "text/x-python",
   "name": "python",
   "nbconvert_exporter": "python",
   "pygments_lexer": "ipython3",
   "version": "3.9.7"
  }
 },
 "nbformat": 4,
 "nbformat_minor": 5
}
